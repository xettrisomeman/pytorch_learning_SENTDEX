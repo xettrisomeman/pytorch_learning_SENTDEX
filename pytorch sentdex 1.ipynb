{
 "cells": [
  {
   "cell_type": "code",
   "execution_count": 0,
   "metadata": {
    "colab": {},
    "colab_type": "code",
    "id": "otKRn23IKJtt"
   },
   "outputs": [],
   "source": [
    "import torch"
   ]
  },
  {
   "cell_type": "code",
   "execution_count": 2,
   "metadata": {
    "colab": {
     "base_uri": "https://localhost:8080/",
     "height": 35
    },
    "colab_type": "code",
    "executionInfo": {
     "elapsed": 1335,
     "status": "ok",
     "timestamp": 1590314939997,
     "user": {
      "displayName": "Full Stop",
      "photoUrl": "https://lh3.googleusercontent.com/a-/AOh14Gg_bQdQY5tpt-dLLryBUbgqg97QoCOHie8DprsqKw=s64",
      "userId": "04531590476752994246"
     },
     "user_tz": -345
    },
    "id": "hEObr4lxEpYS",
    "outputId": "8968c3f7-5791-480a-a7e3-674150c57aaf"
   },
   "outputs": [
    {
     "name": "stdout",
     "output_type": "stream",
     "text": [
      "tensor([10,  3])\n"
     ]
    }
   ],
   "source": [
    "x = torch.tensor([5,3])\n",
    "y = torch.tensor([2,1])\n",
    "print(x*y)"
   ]
  },
  {
   "cell_type": "code",
   "execution_count": 0,
   "metadata": {
    "colab": {},
    "colab_type": "code",
    "id": "PxPbqJCjKCyS"
   },
   "outputs": [],
   "source": [
    "x = torch.zeros([2,5])\n"
   ]
  },
  {
   "cell_type": "code",
   "execution_count": 4,
   "metadata": {
    "colab": {
     "base_uri": "https://localhost:8080/",
     "height": 54
    },
    "colab_type": "code",
    "executionInfo": {
     "elapsed": 1040,
     "status": "ok",
     "timestamp": 1590314992117,
     "user": {
      "displayName": "Full Stop",
      "photoUrl": "https://lh3.googleusercontent.com/a-/AOh14Gg_bQdQY5tpt-dLLryBUbgqg97QoCOHie8DprsqKw=s64",
      "userId": "04531590476752994246"
     },
     "user_tz": -345
    },
    "id": "Y_N2EHUWKPHw",
    "outputId": "3a1f328a-d49e-4060-ae59-79d275c30f24"
   },
   "outputs": [
    {
     "name": "stdout",
     "output_type": "stream",
     "text": [
      "tensor([[0., 0., 0., 0., 0.],\n",
      "        [0., 0., 0., 0., 0.]])\n"
     ]
    }
   ],
   "source": [
    "print(x)"
   ]
  },
  {
   "cell_type": "code",
   "execution_count": 5,
   "metadata": {
    "colab": {
     "base_uri": "https://localhost:8080/",
     "height": 35
    },
    "colab_type": "code",
    "executionInfo": {
     "elapsed": 1094,
     "status": "ok",
     "timestamp": 1590314995687,
     "user": {
      "displayName": "Full Stop",
      "photoUrl": "https://lh3.googleusercontent.com/a-/AOh14Gg_bQdQY5tpt-dLLryBUbgqg97QoCOHie8DprsqKw=s64",
      "userId": "04531590476752994246"
     },
     "user_tz": -345
    },
    "id": "OLrMWfxiKP1Y",
    "outputId": "612267a1-61c7-4d08-dbc1-7bf91702e26c"
   },
   "outputs": [
    {
     "data": {
      "text/plain": [
       "torch.Size([2, 5])"
      ]
     },
     "execution_count": 5,
     "metadata": {
      "tags": []
     },
     "output_type": "execute_result"
    }
   ],
   "source": [
    "x.shape"
   ]
  },
  {
   "cell_type": "code",
   "execution_count": 0,
   "metadata": {
    "colab": {},
    "colab_type": "code",
    "id": "_zBpZAjyLAb1"
   },
   "outputs": [],
   "source": [
    " y =torch.rand(2,5,1)"
   ]
  },
  {
   "cell_type": "code",
   "execution_count": 25,
   "metadata": {
    "colab": {
     "base_uri": "https://localhost:8080/",
     "height": 219
    },
    "colab_type": "code",
    "executionInfo": {
     "elapsed": 840,
     "status": "ok",
     "timestamp": 1590315472945,
     "user": {
      "displayName": "Full Stop",
      "photoUrl": "https://lh3.googleusercontent.com/a-/AOh14Gg_bQdQY5tpt-dLLryBUbgqg97QoCOHie8DprsqKw=s64",
      "userId": "04531590476752994246"
     },
     "user_tz": -345
    },
    "id": "DUhImll2Lj9O",
    "outputId": "386459d3-5b8b-4f15-d339-1d75b132743b"
   },
   "outputs": [
    {
     "data": {
      "text/plain": [
       "tensor([[[0.5280],\n",
       "         [0.2962],\n",
       "         [0.2162],\n",
       "         [0.4666],\n",
       "         [0.3062]],\n",
       "\n",
       "        [[0.7894],\n",
       "         [0.5884],\n",
       "         [0.1912],\n",
       "         [0.6918],\n",
       "         [0.9545]]])"
      ]
     },
     "execution_count": 25,
     "metadata": {
      "tags": []
     },
     "output_type": "execute_result"
    }
   ],
   "source": [
    "y"
   ]
  },
  {
   "cell_type": "code",
   "execution_count": 26,
   "metadata": {
    "colab": {
     "base_uri": "https://localhost:8080/",
     "height": 35
    },
    "colab_type": "code",
    "executionInfo": {
     "elapsed": 811,
     "status": "ok",
     "timestamp": 1590315477798,
     "user": {
      "displayName": "Full Stop",
      "photoUrl": "https://lh3.googleusercontent.com/a-/AOh14Gg_bQdQY5tpt-dLLryBUbgqg97QoCOHie8DprsqKw=s64",
      "userId": "04531590476752994246"
     },
     "user_tz": -345
    },
    "id": "Mppx0WdCL0pO",
    "outputId": "f698faee-3f34-4d57-f50f-008cf4f3eb06"
   },
   "outputs": [
    {
     "data": {
      "text/plain": [
       "3"
      ]
     },
     "execution_count": 26,
     "metadata": {
      "tags": []
     },
     "output_type": "execute_result"
    }
   ],
   "source": [
    "y.ndim"
   ]
  },
  {
   "cell_type": "code",
   "execution_count": 27,
   "metadata": {
    "colab": {
     "base_uri": "https://localhost:8080/",
     "height": 74
    },
    "colab_type": "code",
    "executionInfo": {
     "elapsed": 800,
     "status": "ok",
     "timestamp": 1590315487987,
     "user": {
      "displayName": "Full Stop",
      "photoUrl": "https://lh3.googleusercontent.com/a-/AOh14Gg_bQdQY5tpt-dLLryBUbgqg97QoCOHie8DprsqKw=s64",
      "userId": "04531590476752994246"
     },
     "user_tz": -345
    },
    "id": "E_ux6UwyL2wM",
    "outputId": "f7310567-6c2a-47e8-c757-71053de40a38"
   },
   "outputs": [
    {
     "data": {
      "text/plain": [
       "tensor([[0.5280, 0.2962, 0.2162, 0.4666, 0.3062, 0.7894, 0.5884, 0.1912, 0.6918,\n",
       "         0.9545]])"
      ]
     },
     "execution_count": 27,
     "metadata": {
      "tags": []
     },
     "output_type": "execute_result"
    }
   ],
   "source": [
    "#same like ravel\n",
    "y.view(1,10)"
   ]
  },
  {
   "cell_type": "code",
   "execution_count": 28,
   "metadata": {
    "colab": {
     "base_uri": "https://localhost:8080/",
     "height": 219
    },
    "colab_type": "code",
    "executionInfo": {
     "elapsed": 1085,
     "status": "ok",
     "timestamp": 1590315499677,
     "user": {
      "displayName": "Full Stop",
      "photoUrl": "https://lh3.googleusercontent.com/a-/AOh14Gg_bQdQY5tpt-dLLryBUbgqg97QoCOHie8DprsqKw=s64",
      "userId": "04531590476752994246"
     },
     "user_tz": -345
    },
    "id": "rHuAE53hMI8N",
    "outputId": "4a84d804-aa20-4b97-9567-a34814ef483e"
   },
   "outputs": [
    {
     "data": {
      "text/plain": [
       "tensor([[[0.5280],\n",
       "         [0.2962],\n",
       "         [0.2162],\n",
       "         [0.4666],\n",
       "         [0.3062]],\n",
       "\n",
       "        [[0.7894],\n",
       "         [0.5884],\n",
       "         [0.1912],\n",
       "         [0.6918],\n",
       "         [0.9545]]])"
      ]
     },
     "execution_count": 28,
     "metadata": {
      "tags": []
     },
     "output_type": "execute_result"
    }
   ],
   "source": [
    "y"
   ]
  },
  {
   "cell_type": "code",
   "execution_count": 29,
   "metadata": {
    "colab": {
     "base_uri": "https://localhost:8080/",
     "height": 74
    },
    "colab_type": "code",
    "executionInfo": {
     "elapsed": 1205,
     "status": "ok",
     "timestamp": 1590315507073,
     "user": {
      "displayName": "Full Stop",
      "photoUrl": "https://lh3.googleusercontent.com/a-/AOh14Gg_bQdQY5tpt-dLLryBUbgqg97QoCOHie8DprsqKw=s64",
      "userId": "04531590476752994246"
     },
     "user_tz": -345
    },
    "id": "fLVoav7XMLsl",
    "outputId": "ae1a6d28-d137-47c0-bc1a-72af73276a43"
   },
   "outputs": [
    {
     "data": {
      "text/plain": [
       "tensor([[0.5280, 0.2962, 0.2162, 0.4666, 0.3062, 0.7894, 0.5884, 0.1912, 0.6918,\n",
       "         0.9545]])"
      ]
     },
     "execution_count": 29,
     "metadata": {
      "tags": []
     },
     "output_type": "execute_result"
    }
   ],
   "source": [
    "y=y.view(1,10)\n",
    "y"
   ]
  },
  {
   "cell_type": "code",
   "execution_count": 0,
   "metadata": {
    "colab": {},
    "colab_type": "code",
    "id": "pzPHk-NHMNeb"
   },
   "outputs": [],
   "source": []
  }
 ],
 "metadata": {
  "colab": {
   "authorship_tag": "ABX9TyMLVPb5ZO/OSpDPDZFgSSrK",
   "name": "pytorch sentdex 1.ipynb",
   "provenance": []
  },
  "kernelspec": {
   "display_name": "Python 3",
   "language": "python",
   "name": "python3"
  },
  "language_info": {
   "codemirror_mode": {
    "name": "ipython",
    "version": 3
   },
   "file_extension": ".py",
   "mimetype": "text/x-python",
   "name": "python",
   "nbconvert_exporter": "python",
   "pygments_lexer": "ipython3",
   "version": "3.7.4"
  }
 },
 "nbformat": 4,
 "nbformat_minor": 1
}
